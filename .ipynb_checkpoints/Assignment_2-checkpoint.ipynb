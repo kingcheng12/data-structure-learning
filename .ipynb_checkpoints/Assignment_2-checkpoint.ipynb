{
 "cells": [
  {
   "cell_type": "markdown",
   "id": "similar-messenger",
   "metadata": {},
   "source": [
    "## 1. Convert array into heap"
   ]
  },
  {
   "cell_type": "code",
   "execution_count": 42,
   "id": "careful-registration",
   "metadata": {},
   "outputs": [],
   "source": [
    "def create_heap(A):\n",
    "    size = len(A)\n",
    "    s = 0\n",
    "    \n",
    "    def siftdown(i, A, swap_count):\n",
    "        size = len(A)\n",
    "        minind = i\n",
    "        l, r = 2*i+1, 2*i+2\n",
    "        if l < size and A[l] < A[minind]:\n",
    "            minind = l\n",
    "        if r < size and A[r] < A[minind]:\n",
    "            minind = r\n",
    "        if i != minind:\n",
    "            print(i, minind)\n",
    "            A[i], A[minind] = A[minind], A[i]\n",
    "            swap_count += 1\n",
    "            return siftdown(minind, A, swap_count)\n",
    "        return swap_count + 0\n",
    "            \n",
    "    for i in range(size//2-1,-1,-1):\n",
    "        s += siftdown(i, A, 0)\n",
    "    print(s)"
   ]
  },
  {
   "cell_type": "code",
   "execution_count": 45,
   "id": "delayed-going",
   "metadata": {},
   "outputs": [
    {
     "name": "stdout",
     "output_type": "stream",
     "text": [
      "2 5\n",
      "1 4\n",
      "0 2\n",
      "2 5\n",
      "4\n"
     ]
    }
   ],
   "source": [
    "A = [5,4,3,2,1,0, 8]\n",
    "create_heap(A)"
   ]
  },
  {
   "cell_type": "markdown",
   "id": "composite-fishing",
   "metadata": {},
   "source": [
    "## 2. Parallel processing"
   ]
  },
  {
   "cell_type": "code",
   "execution_count": 49,
   "id": "explicit-appearance",
   "metadata": {},
   "outputs": [],
   "source": [
    "def min_ind(M):\n",
    "    ind = 0\n",
    "    for i in range(1,len(M)):\n",
    "        if M[i] < M[ind]:\n",
    "            ind = i\n",
    "    return ind"
   ]
  },
  {
   "cell_type": "code",
   "execution_count": 53,
   "id": "opposed-influence",
   "metadata": {},
   "outputs": [],
   "source": [
    "def parallel(n, M):\n",
    "    '''n threads M are preocessing times of jobs'''\n",
    "    thr = [0]*n\n",
    "    \n",
    "    for i in range(len(M)):\n",
    "        ind = min_ind(thr)\n",
    "        print(ind, thr[ind])\n",
    "        thr[ind] += M[i]"
   ]
  },
  {
   "cell_type": "markdown",
   "id": "intended-onion",
   "metadata": {},
   "source": [
    "## 3. Merging tables"
   ]
  },
  {
   "cell_type": "code",
   "execution_count": 57,
   "id": "nearby-forth",
   "metadata": {},
   "outputs": [],
   "source": [
    "def find(A, i):\n",
    "    '''get table i's destination'''\n",
    "    ind = i\n",
    "    while ind != A[ind]:\n",
    "        ind = A[ind]\n",
    "    return ind"
   ]
  },
  {
   "cell_type": "code",
   "execution_count": 70,
   "id": "approximate-jordan",
   "metadata": {},
   "outputs": [],
   "source": [
    "def merge_tab(n, m, R, dest, sou):\n",
    "    ind = [i for i in range(n)] # use for link\n",
    "    dest = [d-1 for d in dest]\n",
    "    sou = [s-1 for s in sou]\n",
    "    \n",
    "    for i in range(m):\n",
    "        d = dest[i]\n",
    "        s = sou[i]\n",
    "        \n",
    "        actual_d = find(ind, d)\n",
    "        actual_s = find(ind, s)\n",
    "        \n",
    "        # merge\n",
    "        if actual_d != actual_s:\n",
    "            R[actual_d] = R[actual_d] + R[actual_s]\n",
    "            R[actual_s] = 0\n",
    "            print(max(R))\n",
    "\n",
    "            while s != ind[s]:\n",
    "                s = ind[s]\n",
    "            ind[s] = actual_d\n",
    "        else:\n",
    "            print(max(R))\n",
    "        "
   ]
  },
  {
   "cell_type": "code",
   "execution_count": 71,
   "id": "unexpected-outreach",
   "metadata": {},
   "outputs": [
    {
     "name": "stdout",
     "output_type": "stream",
     "text": [
      "2\n",
      "2\n",
      "3\n",
      "5\n",
      "5\n"
     ]
    }
   ],
   "source": [
    "n, m = 5, 5 \n",
    "R = [1] * 5\n",
    "dest = [3 ,2, 1, 5, 5]\n",
    "sou = [5, 4, 4, 4, 3]\n",
    "merge_tab(n, m, R, dest, sou)"
   ]
  },
  {
   "cell_type": "code",
   "execution_count": 72,
   "id": "substantial-disposition",
   "metadata": {},
   "outputs": [
    {
     "name": "stdout",
     "output_type": "stream",
     "text": [
      "10\n",
      "10\n",
      "10\n",
      "11\n"
     ]
    }
   ],
   "source": [
    "n, m = 6, 4 \n",
    "R = [10, 0, 5, 0, 3, 3]\n",
    "dest = [6, 6, 5, 4]\n",
    "sou = [6, 5, 4, 3]\n",
    "merge_tab(n, m, R, dest, sou)"
   ]
  },
  {
   "cell_type": "code",
   "execution_count": null,
   "id": "hungry-brighton",
   "metadata": {},
   "outputs": [],
   "source": []
  }
 ],
 "metadata": {
  "kernelspec": {
   "display_name": "Python 3",
   "language": "python",
   "name": "python3"
  },
  "language_info": {
   "codemirror_mode": {
    "name": "ipython",
    "version": 3
   },
   "file_extension": ".py",
   "mimetype": "text/x-python",
   "name": "python",
   "nbconvert_exporter": "python",
   "pygments_lexer": "ipython3",
   "version": "3.7.6"
  }
 },
 "nbformat": 4,
 "nbformat_minor": 5
}
