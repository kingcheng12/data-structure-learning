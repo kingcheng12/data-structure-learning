{
 "cells": [
  {
   "cell_type": "markdown",
   "id": "heavy-thesaurus",
   "metadata": {},
   "source": [
    "## 1. Binary Tree Traversals"
   ]
  },
  {
   "cell_type": "code",
   "execution_count": 5,
   "id": "saved-philosophy",
   "metadata": {},
   "outputs": [],
   "source": [
    "# lets create a binary search tree class\n",
    "\n",
    "class Node:\n",
    "    def __init__(self, key):\n",
    "        self.left = None\n",
    "        self.right = None\n",
    "        self.parent = None\n",
    "        self.val = key\n",
    "    \n",
    "# class bst():\n",
    "#     def __init_(self, root):\n",
    "#         self.root = root\n",
    "        \n",
    "#     def insert(self, key):\n",
    "#         if self.root == None:\n",
    "#             return Node(key)\n",
    "#         else:\n",
    "#             if root.val == key:\n",
    "#                 return root\n",
    "#             elif root.val < key:\n",
    "#                 root.right = insert(root.right, key)\n",
    "#             else:\n",
    "#                 root.left = insert(root.left, key)\n",
    "#         return root"
   ]
  },
  {
   "cell_type": "code",
   "execution_count": 9,
   "id": "written-mustang",
   "metadata": {},
   "outputs": [],
   "source": [
    "def insert(root, key):\n",
    "    if root is None:\n",
    "        return Node(key)\n",
    "    else:\n",
    "        if root.val == key:\n",
    "            return root\n",
    "        elif root.val < key:\n",
    "            root.right = insert(root.right, key)\n",
    "        else:\n",
    "            root.left = insert(root.left, key)\n",
    "    return root"
   ]
  },
  {
   "cell_type": "code",
   "execution_count": 10,
   "id": "temporal-validation",
   "metadata": {},
   "outputs": [],
   "source": [
    "r = Node(50)\n",
    "r = insert(r, 30)\n",
    "r = insert(r, 20)\n",
    "r = insert(r, 40)\n",
    "r = insert(r, 70)\n",
    "r = insert(r, 60)\n",
    "r = insert(r, 80)"
   ]
  },
  {
   "cell_type": "code",
   "execution_count": 11,
   "id": "younger-mandate",
   "metadata": {},
   "outputs": [],
   "source": [
    "# depth first in order\n",
    "def inorder(root):\n",
    "    if root:\n",
    "        inorder(root.left)\n",
    "        print(root.val)\n",
    "        inorder(root.right)"
   ]
  },
  {
   "cell_type": "code",
   "execution_count": 12,
   "id": "smoking-doctrine",
   "metadata": {},
   "outputs": [
    {
     "name": "stdout",
     "output_type": "stream",
     "text": [
      "20\n",
      "30\n",
      "40\n",
      "50\n",
      "60\n",
      "70\n",
      "80\n"
     ]
    }
   ],
   "source": [
    "inorder(r)"
   ]
  },
  {
   "cell_type": "code",
   "execution_count": 14,
   "id": "neural-midnight",
   "metadata": {},
   "outputs": [],
   "source": [
    "# pre order\n",
    "def preorder(root):\n",
    "    if root:\n",
    "        print(root.val)\n",
    "        preorder(root.left)\n",
    "        preorder(root.right)"
   ]
  },
  {
   "cell_type": "code",
   "execution_count": 15,
   "id": "specified-pioneer",
   "metadata": {},
   "outputs": [
    {
     "name": "stdout",
     "output_type": "stream",
     "text": [
      "50\n",
      "30\n",
      "20\n",
      "40\n",
      "70\n",
      "60\n",
      "80\n"
     ]
    }
   ],
   "source": [
    "preorder(r)"
   ]
  },
  {
   "cell_type": "code",
   "execution_count": 16,
   "id": "requested-termination",
   "metadata": {},
   "outputs": [],
   "source": [
    "# post order\n",
    "def postorder(root):\n",
    "    if root:\n",
    "        postorder(root.left)\n",
    "        postorder(root.right)\n",
    "        print(root.val)"
   ]
  },
  {
   "cell_type": "code",
   "execution_count": 17,
   "id": "concerned-appliance",
   "metadata": {},
   "outputs": [
    {
     "name": "stdout",
     "output_type": "stream",
     "text": [
      "20\n",
      "40\n",
      "30\n",
      "60\n",
      "80\n",
      "70\n",
      "50\n"
     ]
    }
   ],
   "source": [
    "postorder(r)"
   ]
  },
  {
   "cell_type": "markdown",
   "id": "neither-fleece",
   "metadata": {},
   "source": [
    "## 2. Is it a binary search tree?"
   ]
  },
  {
   "cell_type": "code",
   "execution_count": 24,
   "id": "personal-choice",
   "metadata": {},
   "outputs": [],
   "source": [
    "def isBST(root):\n",
    "    if not root:\n",
    "        return True\n",
    "    \n",
    "    if root.left and root.left.val > root.val:\n",
    "        return False\n",
    "    \n",
    "    if root.right and root.right.val < root.val:\n",
    "        return False\n",
    "    \n",
    "    if not isBST(root.left) or not isBST(root.right):\n",
    "        return False\n",
    "    \n",
    "    return True"
   ]
  },
  {
   "cell_type": "code",
   "execution_count": 26,
   "id": "stainless-burlington",
   "metadata": {},
   "outputs": [
    {
     "data": {
      "text/plain": [
       "True"
      ]
     },
     "execution_count": 26,
     "metadata": {},
     "output_type": "execute_result"
    }
   ],
   "source": [
    "isBST(r)"
   ]
  },
  {
   "cell_type": "markdown",
   "id": "thirty-hawaii",
   "metadata": {},
   "source": [
    "## 3. Set with range sums"
   ]
  },
  {
   "cell_type": "code",
   "execution_count": 45,
   "id": "sacred-affairs",
   "metadata": {},
   "outputs": [],
   "source": [
    "# naive implementation\n",
    "class myset():\n",
    "    def __init__(self):\n",
    "        self.data = []\n",
    "        \n",
    "    def add(self, n):\n",
    "        if n not in self.data:\n",
    "            self.data.append(n)\n",
    "            \n",
    "    def delete(self, n):\n",
    "        if n in self.data:\n",
    "            self.data.remove(n)\n",
    "            \n",
    "    def find(self, n):\n",
    "        print('found') if n in self.data else print(\"not found\")\n",
    "    \n",
    "    def sumup(self, l, r):\n",
    "        return sum([i for i in self.data if i>=l and i<=r])\n",
    "    \n",
    "    def __str__(self):\n",
    "        return ' '.join([str(i) for i in self.data])"
   ]
  },
  {
   "cell_type": "code",
   "execution_count": 46,
   "id": "assumed-geometry",
   "metadata": {},
   "outputs": [
    {
     "name": "stdout",
     "output_type": "stream",
     "text": [
      "1 2 3\n"
     ]
    }
   ],
   "source": [
    "s = myset()\n",
    "s.add(1)\n",
    "s.add(2)\n",
    "s.add(3)\n",
    "print(s)"
   ]
  },
  {
   "cell_type": "code",
   "execution_count": 38,
   "id": "loving-garden",
   "metadata": {},
   "outputs": [
    {
     "data": {
      "text/plain": [
       "[1, 2, 3]"
      ]
     },
     "execution_count": 38,
     "metadata": {},
     "output_type": "execute_result"
    }
   ],
   "source": [
    "s.data"
   ]
  },
  {
   "cell_type": "code",
   "execution_count": 47,
   "id": "communist-improvement",
   "metadata": {},
   "outputs": [
    {
     "name": "stdout",
     "output_type": "stream",
     "text": [
      "found\n"
     ]
    }
   ],
   "source": [
    "s.find(3)"
   ]
  },
  {
   "cell_type": "code",
   "execution_count": 48,
   "id": "innovative-airplane",
   "metadata": {},
   "outputs": [],
   "source": [
    "## set can be create tree"
   ]
  },
  {
   "cell_type": "code",
   "execution_count": null,
   "id": "defensive-father",
   "metadata": {},
   "outputs": [],
   "source": []
  },
  {
   "cell_type": "code",
   "execution_count": null,
   "id": "earned-biography",
   "metadata": {},
   "outputs": [],
   "source": []
  },
  {
   "cell_type": "code",
   "execution_count": null,
   "id": "republican-finance",
   "metadata": {},
   "outputs": [],
   "source": []
  },
  {
   "cell_type": "code",
   "execution_count": null,
   "id": "supreme-soccer",
   "metadata": {},
   "outputs": [],
   "source": []
  }
 ],
 "metadata": {
  "kernelspec": {
   "display_name": "Python 3",
   "language": "python",
   "name": "python3"
  },
  "language_info": {
   "codemirror_mode": {
    "name": "ipython",
    "version": 3
   },
   "file_extension": ".py",
   "mimetype": "text/x-python",
   "name": "python",
   "nbconvert_exporter": "python",
   "pygments_lexer": "ipython3",
   "version": "3.7.6"
  }
 },
 "nbformat": 4,
 "nbformat_minor": 5
}
