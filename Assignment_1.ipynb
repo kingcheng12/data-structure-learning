{
 "cells": [
  {
   "cell_type": "markdown",
   "id": "bored-narrow",
   "metadata": {},
   "source": [
    "## 1. Check brackets in the code"
   ]
  },
  {
   "cell_type": "markdown",
   "id": "hazardous-mitchell",
   "metadata": {},
   "source": [
    "#### stack is commonly used for checking balance structure."
   ]
  },
  {
   "cell_type": "code",
   "execution_count": 25,
   "id": "structured-tooth",
   "metadata": {},
   "outputs": [],
   "source": [
    "def check_brackets(text):\n",
    "    stack = []\n",
    "    d = {')':'(', ']':'[', '}':'{'}\n",
    "    \n",
    "    for i, t in enumerate(text):\n",
    "        if t not in list('(){}[]'):\n",
    "            continue\n",
    "        else:\n",
    "            if t in list(')]}'):\n",
    "                if not stack:\n",
    "                    return i+1\n",
    "                else:\n",
    "                    if d[t] == stack[-1]:\n",
    "                        stack.pop()\n",
    "                    else:\n",
    "                        return i+1\n",
    "            else:\n",
    "                stack.append(t)    \n",
    "    return True"
   ]
  },
  {
   "cell_type": "code",
   "execution_count": 27,
   "id": "impressive-august",
   "metadata": {},
   "outputs": [
    {
     "data": {
      "text/plain": [
       "3"
      ]
     },
     "execution_count": 27,
     "metadata": {},
     "output_type": "execute_result"
    }
   ],
   "source": [
    "text = '{[}'\n",
    "check_brackets(text)"
   ]
  },
  {
   "cell_type": "markdown",
   "id": "respective-scanner",
   "metadata": {},
   "source": [
    "## 2. Compute Tree Height"
   ]
  },
  {
   "cell_type": "markdown",
   "id": "engaging-chosen",
   "metadata": {},
   "source": [
    "#### (i) Could use recursive for tree. This is like BFS."
   ]
  },
  {
   "cell_type": "code",
   "execution_count": 17,
   "id": "fifteen-modeling",
   "metadata": {},
   "outputs": [],
   "source": [
    "def height(nodes):\n",
    "    parent = -1\n",
    "    h = 0\n",
    "    def havechild(parent, nodes, h):\n",
    "        '''return the height of tree with root at parent'''  \n",
    "        child = [i for i in range(len(nodes)) if nodes[i]==parent]\n",
    "        ## base case of no child\n",
    "        if not child:\n",
    "            return 0\n",
    "        ## iterative steps\n",
    "        else:\n",
    "            return 1 + max([havechild(p, nodes, h) for p in child])\n",
    "        \n",
    "    return havechild(parent, nodes, h)"
   ]
  },
  {
   "cell_type": "code",
   "execution_count": 18,
   "id": "distinct-lafayette",
   "metadata": {},
   "outputs": [
    {
     "data": {
      "text/plain": [
       "5"
      ]
     },
     "execution_count": 18,
     "metadata": {},
     "output_type": "execute_result"
    }
   ],
   "source": [
    "nodes = [4, -1, 4, 1, 1, 2, 5]\n",
    "height(nodes)"
   ]
  },
  {
   "cell_type": "markdown",
   "id": "viral-strengthening",
   "metadata": {},
   "source": [
    "## 3. Simulate Network packet processing"
   ]
  },
  {
   "cell_type": "code",
   "execution_count": 37,
   "id": "conditional-loading",
   "metadata": {},
   "outputs": [],
   "source": [
    "from collections import deque\n",
    "\n",
    "def sim(S, packets):\n",
    "    buffer = deque(maxlen=S)\n",
    "    \n",
    "    start_times = [None]*len(packets)\n",
    "    \n",
    "    for i, (arrival, duration) in enumerate(packets):\n",
    "        while buffer and buffer[0] <= arrival:\n",
    "            buffer.popleft()\n",
    "            \n",
    "        if len(buffer) >= S:\n",
    "            start_times[i] = -1\n",
    "        else:\n",
    "            start_times[i] = max(arrival, buffer[-1] if buffer else 0)\n",
    "            buffer.append(start_times[i] + duration)\n",
    "    return start_times\n",
    "    \n",
    "    "
   ]
  },
  {
   "cell_type": "code",
   "execution_count": 38,
   "id": "lightweight-creature",
   "metadata": {},
   "outputs": [
    {
     "data": {
      "text/plain": [
       "[0, 1]"
      ]
     },
     "execution_count": 38,
     "metadata": {},
     "output_type": "execute_result"
    }
   ],
   "source": [
    "S = 1\n",
    "packets = [[0,1], [1,1]]\n",
    "sim(S, packets)"
   ]
  },
  {
   "cell_type": "code",
   "execution_count": null,
   "id": "above-philadelphia",
   "metadata": {},
   "outputs": [],
   "source": []
  }
 ],
 "metadata": {
  "kernelspec": {
   "display_name": "Python 3",
   "language": "python",
   "name": "python3"
  },
  "language_info": {
   "codemirror_mode": {
    "name": "ipython",
    "version": 3
   },
   "file_extension": ".py",
   "mimetype": "text/x-python",
   "name": "python",
   "nbconvert_exporter": "python",
   "pygments_lexer": "ipython3",
   "version": "3.7.6"
  }
 },
 "nbformat": 4,
 "nbformat_minor": 5
}
