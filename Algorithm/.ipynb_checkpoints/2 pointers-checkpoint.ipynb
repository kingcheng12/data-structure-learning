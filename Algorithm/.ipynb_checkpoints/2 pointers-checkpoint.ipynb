{
 "cells": [
  {
   "cell_type": "markdown",
   "id": "common-riverside",
   "metadata": {},
   "source": [
    "## 3. Longest Substring Without Repeating Characters\n",
    "\n",
    "#### Given a string s, find the length of the longest substring without repeating characters."
   ]
  },
  {
   "cell_type": "code",
   "execution_count": 2,
   "id": "adverse-plain",
   "metadata": {},
   "outputs": [],
   "source": [
    "def lengthOfLongestSubstring(s):\n",
    "    dic = {}\n",
    "    l, ans = 0, 0\n",
    "    \n",
    "    for i,c in enumerate(s):\n",
    "        if c in dic:\n",
    "            # update answer\n",
    "            ans = max(ans, i-l)\n",
    "            # new l\n",
    "            l = max(l, dic[c]+1)\n",
    "        dic[c] = i\n",
    "    return ans"
   ]
  },
  {
   "cell_type": "code",
   "execution_count": 10,
   "id": "excessive-classics",
   "metadata": {},
   "outputs": [],
   "source": [
    "def test(inp, out, func):\n",
    "    for j, (i, o) in enumerate(zip(inp, out)):\n",
    "        if func(i) == o:\n",
    "            print('test_%d passed'%j)\n",
    "        else:\n",
    "            print('test_%d failed'%j)"
   ]
  },
  {
   "cell_type": "code",
   "execution_count": 11,
   "id": "wrong-committee",
   "metadata": {},
   "outputs": [
    {
     "name": "stdout",
     "output_type": "stream",
     "text": [
      "test_0 passed\n",
      "test_1 passed\n"
     ]
    }
   ],
   "source": [
    "inp = ['abcabcbb', 'bbbbb']\n",
    "out = [3, 1]\n",
    "test(inp, out, lengthOfLongestSubstring)"
   ]
  },
  {
   "cell_type": "markdown",
   "id": "sonic-gossip",
   "metadata": {},
   "source": [
    "## 11. Container With Most Water\n",
    "\n",
    "#### Given n non-negative integers a1, a2, ..., an , where each represents a point at coordinate (i, ai). n vertical lines are drawn such that the two endpoints of the line i is at (i, ai) and (i, 0). Find two lines, which, together with the x-axis forms a container, such that the container contains the most water."
   ]
  },
  {
   "cell_type": "code",
   "execution_count": 12,
   "id": "early-kitchen",
   "metadata": {},
   "outputs": [],
   "source": [
    "def maxArea(height):\n",
    "    l, r , w, area = 0, len(height)-1, len(height)-1, 0\n",
    "    \n",
    "    for i in range(w, 0, -1):\n",
    "        if height[r] > height[l]:\n",
    "            area = max(area, height[l]*i)\n",
    "            l += 1\n",
    "        else:\n",
    "            area = max(area, height[r]*i)\n",
    "            r -= 1\n",
    "    return area"
   ]
  },
  {
   "cell_type": "code",
   "execution_count": 14,
   "id": "intellectual-example",
   "metadata": {},
   "outputs": [
    {
     "name": "stdout",
     "output_type": "stream",
     "text": [
      "test_0 passed\n",
      "test_1 passed\n"
     ]
    }
   ],
   "source": [
    "inp = [[1,8,6,2,5,4,8,3,7], [1,1]]\n",
    "out = [49, 1]\n",
    "test(inp, out, maxArea)"
   ]
  },
  {
   "cell_type": "markdown",
   "id": "tired-sheet",
   "metadata": {},
   "source": [
    "## 15. 3 Sum\n",
    "\n",
    "#### Given an integer array nums, return all the triplets [nums[i], nums[j], nums[k]] such that i != j, i != k, and j != k, and nums[i] + nums[j] + nums[k] == 0."
   ]
  },
  {
   "cell_type": "code",
   "execution_count": 10,
   "id": "organic-newsletter",
   "metadata": {},
   "outputs": [],
   "source": [
    "def threeSum(nums):\n",
    "    # 2 pointer will be O(n^2), use O(nlogn) for sorting\n",
    "    nums.sort()\n",
    "    ans = []\n",
    "    \n",
    "    # i for first number, l, r for the rest two number\n",
    "    for i in range(len(nums)-2):\n",
    "        if nums[i] > 0:\n",
    "            break ## i > 0, no such 3 number exist\n",
    "        if i > 0 and nums[i] == nums[i-1]:\n",
    "            continue ## avoid repetition of i\n",
    "        \n",
    "        # find l, r\n",
    "        l, r = i+1, len(nums)-1\n",
    "        while l < r:\n",
    "            s = nums[i] + nums[l] + nums[r]\n",
    "            if s > 0:\n",
    "                r -= 1\n",
    "            elif s < 0:\n",
    "                l += 1\n",
    "            else:\n",
    "                ans.append([nums[i], nums[l], nums[r]])\n",
    "                # deal with duplicates\n",
    "                while l < r and nums[l] == nums[l+1]:\n",
    "                    l += 1\n",
    "                while l < r and nums[r] == nums[r-1]:\n",
    "                    r -= 1\n",
    "                l += 1\n",
    "                r -= 1\n",
    "    return ans     "
   ]
  },
  {
   "cell_type": "code",
   "execution_count": 11,
   "id": "spatial-uncle",
   "metadata": {},
   "outputs": [
    {
     "data": {
      "text/plain": [
       "[[-1, -1, 2], [-1, 0, 1]]"
      ]
     },
     "execution_count": 11,
     "metadata": {},
     "output_type": "execute_result"
    }
   ],
   "source": [
    "nums = [-1,0,1,2,-1,-4]\n",
    "threeSum(nums)"
   ]
  },
  {
   "cell_type": "code",
   "execution_count": 13,
   "id": "familiar-federal",
   "metadata": {},
   "outputs": [
    {
     "data": {
      "text/plain": [
       "[[-1, -1, 2], [-1, 0, 1], [0, 0, 0]]"
      ]
     },
     "execution_count": 13,
     "metadata": {},
     "output_type": "execute_result"
    }
   ],
   "source": [
    "nums = [-1,0,1,2,-1,-4,0,0,0,0]\n",
    "threeSum(nums)"
   ]
  },
  {
   "cell_type": "markdown",
   "id": "complex-links",
   "metadata": {},
   "source": [
    "## 16. 3Sum Closest\n",
    "\n",
    "#### Given an array nums of n integers and an integer target, find three integers in nums such that the sum is closest to target. Return the sum of the three integers. You may assume that each input would have exactly one solution."
   ]
  },
  {
   "cell_type": "code",
   "execution_count": 33,
   "id": "framed-steel",
   "metadata": {},
   "outputs": [],
   "source": [
    "def threeSumClosest(nums, target):\n",
    "    # use 2 pointers keep track of the diff\n",
    "    nums.sort()\n",
    "    diff = float('inf')\n",
    "    \n",
    "    for i in range(len(nums)-2):\n",
    "        if i>0 and nums[i] == nums[i-1]:\n",
    "            continue\n",
    "        l, r = i+1, len(nums)-1\n",
    "        while l < r:\n",
    "            s = nums[i] + nums[l] + nums[r]\n",
    "            if s == target:\n",
    "                return target\n",
    "            else:\n",
    "                if abs(target-s) < abs(diff):\n",
    "                    diff = target-s\n",
    "                if s > target:\n",
    "                    r -= 1\n",
    "                elif s < target:\n",
    "                    l += 1\n",
    "    return target - diff"
   ]
  },
  {
   "cell_type": "code",
   "execution_count": 34,
   "id": "juvenile-northeast",
   "metadata": {},
   "outputs": [
    {
     "data": {
      "text/plain": [
       "-101"
      ]
     },
     "execution_count": 34,
     "metadata": {},
     "output_type": "execute_result"
    }
   ],
   "source": [
    "nums = [-100,-98,-2,-1]\n",
    "target = -101\n",
    "threeSumClosest(nums, target)"
   ]
  },
  {
   "cell_type": "markdown",
   "id": "fourth-mineral",
   "metadata": {},
   "source": [
    "## 18. 4Sum\n",
    "\n",
    "#### Given an array nums of n integers and an integer target, are there elements a, b, c, and d in nums such that a + b + c + d = target? Find all unique quadruplets in the array which gives the sum of target.\n",
    "\n",
    "#### Notice that the solution set must not contain duplicate quadruplets."
   ]
  },
  {
   "cell_type": "code",
   "execution_count": null,
   "id": "continent-canberra",
   "metadata": {},
   "outputs": [],
   "source": []
  }
 ],
 "metadata": {
  "kernelspec": {
   "display_name": "Python 3",
   "language": "python",
   "name": "python3"
  },
  "language_info": {
   "codemirror_mode": {
    "name": "ipython",
    "version": 3
   },
   "file_extension": ".py",
   "mimetype": "text/x-python",
   "name": "python",
   "nbconvert_exporter": "python",
   "pygments_lexer": "ipython3",
   "version": "3.7.6"
  }
 },
 "nbformat": 4,
 "nbformat_minor": 5
}
