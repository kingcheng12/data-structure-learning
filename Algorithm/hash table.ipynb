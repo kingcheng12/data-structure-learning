{
 "cells": [
  {
   "cell_type": "markdown",
   "id": "shaped-glass",
   "metadata": {},
   "source": [
    "## 4Sum (N-Sum)\n",
    "\n",
    "#### Given an array nums of n integers, return an array of all the unique quadruplets [nums[a], nums[b], nums[c], nums[d]] such that:\n",
    "\n",
    "#### 0 <= a, b, c, d < n\n",
    "#### a, b, c, and d are distinct.\n",
    "#### nums[a] + nums[b] + nums[c] + nums[d] == target\n",
    "#### You may return the answer in any order."
   ]
  },
  {
   "cell_type": "code",
   "execution_count": 13,
   "id": "smart-playlist",
   "metadata": {},
   "outputs": [],
   "source": [
    "def fourSum(nums, target):\n",
    "    def twoSum(nums, target):\n",
    "        ans = []\n",
    "        l, r = 0, len(nums) - 1\n",
    "        while l < r:\n",
    "            if nums[l] + nums[r] < target or (l > 0 and nums[l] == nums[l-1]):\n",
    "                l += 1\n",
    "            elif nums[l] + nums[r] > target or (r < len(nums)-1 and nums[r] == nums[r+1]):\n",
    "                r -= 1\n",
    "            else:\n",
    "                ans.append([nums[l], nums[r]])\n",
    "                l += 1\n",
    "                r -= 1\n",
    "        return ans\n",
    "    \n",
    "    def nSum(nums, target, n):\n",
    "        ans = []\n",
    "        if len(nums) == 0 or nums[0] * n > target or nums[-1]*n < target:\n",
    "            return ans\n",
    "        if n == 2:\n",
    "            return twoSum(nums, target)\n",
    "        for i in range(len(nums)):\n",
    "            if i==0 or nums[i] != nums[i-1]:\n",
    "                for s in nSum(nums[i+1:], target-nums[i], n-1):\n",
    "                    ans.append([nums[i]]+s)\n",
    "        return ans\n",
    "    \n",
    "    nums.sort()\n",
    "    return nSum(nums, target, 4)"
   ]
  },
  {
   "cell_type": "code",
   "execution_count": 14,
   "id": "crucial-concert",
   "metadata": {},
   "outputs": [
    {
     "data": {
      "text/plain": [
       "[[-2, -1, 1, 2], [-2, 0, 0, 2], [-1, 0, 0, 1]]"
      ]
     },
     "execution_count": 14,
     "metadata": {},
     "output_type": "execute_result"
    }
   ],
   "source": [
    "nums = [1,0,-1,0,-2,2]\n",
    "target = 0\n",
    "fourSum(nums, target)"
   ]
  },
  {
   "cell_type": "code",
   "execution_count": null,
   "id": "irish-clear",
   "metadata": {},
   "outputs": [],
   "source": []
  },
  {
   "cell_type": "code",
   "execution_count": null,
   "id": "agreed-sheriff",
   "metadata": {},
   "outputs": [],
   "source": []
  }
 ],
 "metadata": {
  "kernelspec": {
   "display_name": "Python 3",
   "language": "python",
   "name": "python3"
  },
  "language_info": {
   "codemirror_mode": {
    "name": "ipython",
    "version": 3
   },
   "file_extension": ".py",
   "mimetype": "text/x-python",
   "name": "python",
   "nbconvert_exporter": "python",
   "pygments_lexer": "ipython3",
   "version": "3.7.6"
  }
 },
 "nbformat": 4,
 "nbformat_minor": 5
}
