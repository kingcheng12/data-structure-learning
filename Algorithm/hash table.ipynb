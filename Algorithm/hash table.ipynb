{
 "cells": [
  {
   "cell_type": "markdown",
   "id": "shaped-glass",
   "metadata": {},
   "source": [
    "## 18. 4Sum (N-Sum)\n",
    "\n",
    "#### Given an array nums of n integers, return an array of all the unique quadruplets [nums[a], nums[b], nums[c], nums[d]] such that:\n",
    "\n",
    "#### 0 <= a, b, c, d < n\n",
    "#### a, b, c, and d are distinct.\n",
    "#### nums[a] + nums[b] + nums[c] + nums[d] == target\n",
    "#### You may return the answer in any order."
   ]
  },
  {
   "cell_type": "code",
   "execution_count": 13,
   "id": "smart-playlist",
   "metadata": {},
   "outputs": [],
   "source": [
    "def fourSum(nums, target):\n",
    "    def twoSum(nums, target):\n",
    "        ans = []\n",
    "        l, r = 0, len(nums) - 1\n",
    "        while l < r:\n",
    "            if nums[l] + nums[r] < target or (l > 0 and nums[l] == nums[l-1]):\n",
    "                l += 1\n",
    "            elif nums[l] + nums[r] > target or (r < len(nums)-1 and nums[r] == nums[r+1]):\n",
    "                r -= 1\n",
    "            else:\n",
    "                ans.append([nums[l], nums[r]])\n",
    "                l += 1\n",
    "                r -= 1\n",
    "        return ans\n",
    "    \n",
    "    def nSum(nums, target, n):\n",
    "        ans = []\n",
    "        if len(nums) == 0 or nums[0] * n > target or nums[-1]*n < target:\n",
    "            return ans\n",
    "        if n == 2:\n",
    "            return twoSum(nums, target)\n",
    "        for i in range(len(nums)):\n",
    "            if i==0 or nums[i] != nums[i-1]:\n",
    "                for s in nSum(nums[i+1:], target-nums[i], n-1):\n",
    "                    ans.append([nums[i]]+s)\n",
    "        return ans\n",
    "    \n",
    "    nums.sort()\n",
    "    return nSum(nums, target, 4)"
   ]
  },
  {
   "cell_type": "code",
   "execution_count": 14,
   "id": "crucial-concert",
   "metadata": {},
   "outputs": [
    {
     "data": {
      "text/plain": [
       "[[-2, -1, 1, 2], [-2, 0, 0, 2], [-1, 0, 0, 1]]"
      ]
     },
     "execution_count": 14,
     "metadata": {},
     "output_type": "execute_result"
    }
   ],
   "source": [
    "nums = [1,0,-1,0,-2,2]\n",
    "target = 0\n",
    "fourSum(nums, target)"
   ]
  },
  {
   "cell_type": "markdown",
   "id": "visible-handle",
   "metadata": {},
   "source": [
    "##  94. Binary Tree Inorder Traversal\n",
    "\n",
    "#### Given the root of a binary tree, return the inorder traversal of its nodes' values."
   ]
  },
  {
   "cell_type": "code",
   "execution_count": 1,
   "id": "agreed-sheriff",
   "metadata": {},
   "outputs": [],
   "source": [
    "class TreeNode:\n",
    "    def __init__(self, val=0, left=None, right=None):\n",
    "        self.val = val\n",
    "        self.left = left\n",
    "        self.right = right"
   ]
  },
  {
   "cell_type": "code",
   "execution_count": 2,
   "id": "potential-lucas",
   "metadata": {},
   "outputs": [],
   "source": [
    "# iterative\n",
    "class Solution:\n",
    "    def inorderTraversal(self, root: TreeNode) -> List[int]:\n",
    "        res = []\n",
    "        self.helper(root, res)\n",
    "        return res\n",
    "    \n",
    "    \n",
    "    def helper(self, root, res):\n",
    "        if root:\n",
    "            self.helper(root.left, res)\n",
    "            res.append(root.val)\n",
    "            self.helper(root.right, res)"
   ]
  },
  {
   "cell_type": "code",
   "execution_count": 7,
   "id": "arabic-bathroom",
   "metadata": {},
   "outputs": [],
   "source": [
    "# stack\n",
    "def inorderTraversal(root):\n",
    "    stack = []\n",
    "    ans = []\n",
    "    cur = root\n",
    "    \n",
    "    while cur != None or stack:\n",
    "        while cur != None:\n",
    "            stack.append(cur)\n",
    "            cur = cur.left\n",
    "        cur = stack.pop()\n",
    "        ans.append(cur.val)\n",
    "        cur = cur.right\n",
    "    return ans"
   ]
  },
  {
   "cell_type": "markdown",
   "id": "positive-limitation",
   "metadata": {},
   "source": [
    "## 138. Copy List with Random Pointer\n",
    "\n",
    "A linked list of length n is given such that each node contains an additional random pointer, which could point to any node in the list, or null.\n",
    "\n",
    "Construct a deep copy of the list. The deep copy should consist of exactly n brand new nodes, where each new node has its value set to the value of its corresponding original node. Both the next and random pointer of the new nodes should point to new nodes in the copied list such that the pointers in the original list and copied list represent the same list state. None of the pointers in the new list should point to nodes in the original list.\n",
    "\n",
    "For example, if there are two nodes X and Y in the original list, where X.random --> Y, then for the corresponding two nodes x and y in the copied list, x.random --> y.\n",
    "\n",
    "Return the head of the copied linked list.\n",
    "\n",
    "The linked list is represented in the input/output as a list of n nodes. Each node is represented as a pair of [val, random_index] where:\n",
    "\n",
    "val: an integer representing Node.val\n",
    "random_index: the index of the node (range from 0 to n-1) that the random pointer points to, or null if it does not point to any node.\n",
    "Your code will only be given the head of the original linked list."
   ]
  },
  {
   "cell_type": "code",
   "execution_count": 8,
   "id": "adverse-avenue",
   "metadata": {},
   "outputs": [],
   "source": [
    "class Node:\n",
    "    def __init__(self, x: int, next: 'Node' = None, random: 'Node' = None):\n",
    "        self.val = int(x)\n",
    "        self.next = next\n",
    "        self.random = random"
   ]
  },
  {
   "cell_type": "code",
   "execution_count": 9,
   "id": "enclosed-kidney",
   "metadata": {},
   "outputs": [],
   "source": [
    "class Solution:\n",
    "    def __init__(self):\n",
    "        # store visited node\n",
    "        self.visited = {}\n",
    "        \n",
    "    def copyRandomList(head):\n",
    "        if head == None:\n",
    "            return None\n",
    "        \n",
    "        if head in self.visited:\n",
    "            return self.visited[head]\n",
    "        \n",
    "        node = Node(head.val, None, None)\n",
    "        \n",
    "        self.visited[head] = node\n",
    "        # update pointer to visited\n",
    "        node.next = self.copyRandomList(head.next)\n",
    "        node.random = self.copyRandomList(head.random)\n",
    "        \n",
    "        return node "
   ]
  },
  {
   "cell_type": "markdown",
   "id": "accepting-columbus",
   "metadata": {},
   "source": [
    "## 159. Longest Substring with At Most Two Distinct Characters\n",
    "\n",
    "#### Given a string s, return the length of the longest substring that contains at most two distinct characters."
   ]
  },
  {
   "cell_type": "code",
   "execution_count": 30,
   "id": "grand-russia",
   "metadata": {},
   "outputs": [],
   "source": [
    "def lengthOfLongestSubstringTwoDistinct(s):\n",
    "    n = len(s)\n",
    "    if n < 3:\n",
    "        return n\n",
    "    \n",
    "    l, r = 0, 0\n",
    "    ht = {}\n",
    "    max_len = 2\n",
    "    \n",
    "    while r < n:\n",
    "        ht[s[r]] = r\n",
    "        r += 1\n",
    "        \n",
    "        if len(ht) == 3:\n",
    "            del_ind = min(ht.values())\n",
    "            del ht[s[del_ind]]\n",
    "            l = del_ind + 1\n",
    "        max_len = max(max_len, r - l)\n",
    "    return max_len"
   ]
  },
  {
   "cell_type": "code",
   "execution_count": 32,
   "id": "collectible-sociology",
   "metadata": {},
   "outputs": [
    {
     "data": {
      "text/plain": [
       "5"
      ]
     },
     "execution_count": 32,
     "metadata": {},
     "output_type": "execute_result"
    }
   ],
   "source": [
    "s = \"ccaabbb\"\n",
    "lengthOfLongestSubstringTwoDistinct(s)"
   ]
  },
  {
   "cell_type": "code",
   "execution_count": 33,
   "id": "educated-domestic",
   "metadata": {},
   "outputs": [],
   "source": [
    "# use hash table for sliding windows index and count distinct characters"
   ]
  },
  {
   "cell_type": "markdown",
   "id": "humanitarian-dialogue",
   "metadata": {},
   "source": [
    "## 166. Fraction to Recurring Decimal\n",
    "\n",
    "Given two integers representing the numerator and denominator of a fraction, return the fraction in string format.\n",
    "\n",
    "If the fractional part is repeating, enclose the repeating part in parentheses.\n",
    "\n",
    "If multiple answers are possible, return any of them.\n",
    "\n",
    "It is guaranteed that the length of the answer string is less than 104 for all the given inputs."
   ]
  },
  {
   "cell_type": "code",
   "execution_count": 49,
   "id": "welsh-desktop",
   "metadata": {},
   "outputs": [],
   "source": [
    "def fractionToDecimal(numerator, denominator):\n",
    "    ans = ''\n",
    "    \n",
    "    if numerator == 0:\n",
    "        return '0'\n",
    "    if (numerator < 0 and denominator > 0) or (numerator > 0 and denominator < 0):\n",
    "        ans += '-'\n",
    "        \n",
    "    denominator = abs(denominator)\n",
    "    numerator = abs(numerator)\n",
    "    ans += str(numerator//denominator)\n",
    "    remainder = numerator % denominator\n",
    "    \n",
    "    if remainder == 0:\n",
    "        return ans\n",
    "    \n",
    "    \n",
    "    ans += '.'\n",
    "    ht = {}\n",
    "    while remainder != 0:\n",
    "        if remainder in ht.keys():\n",
    "            ans = ans[:ht[remainder]] + '(' + ans[ht[remainder]:] + ')'\n",
    "            break\n",
    "        ht[remainder] = len(ans)\n",
    "        remainder *= 10\n",
    "        ans += str(remainder//denominator)\n",
    "        remainder %= denominator\n",
    "    return ans"
   ]
  },
  {
   "cell_type": "code",
   "execution_count": 50,
   "id": "honey-annex",
   "metadata": {},
   "outputs": [
    {
     "data": {
      "text/plain": [
       "'0.(6)'"
      ]
     },
     "execution_count": 50,
     "metadata": {},
     "output_type": "execute_result"
    }
   ],
   "source": [
    "numerator = 2\n",
    "denominator = 3\n",
    "fractionToDecimal(numerator, denominator)"
   ]
  },
  {
   "cell_type": "markdown",
   "id": "institutional-preference",
   "metadata": {},
   "source": [
    "## 202. Happy Number\n",
    "\n",
    "Write an algorithm to determine if a number n is happy.\n",
    "\n",
    "A happy number is a number defined by the following process:\n",
    "\n",
    "Starting with any positive integer, replace the number by the sum of the squares of its digits.\n",
    "Repeat the process until the number equals 1 (where it will stay), or it loops endlessly in a cycle which does not include 1.\n",
    "Those numbers for which this process ends in 1 are happy.\n",
    "Return true if n is a happy number, and false if not."
   ]
  },
  {
   "cell_type": "code",
   "execution_count": 69,
   "id": "danish-journal",
   "metadata": {},
   "outputs": [],
   "source": [
    "def isHappy(n):\n",
    "    def get_next(n):\n",
    "        total_sum = 0\n",
    "        while n > 0:\n",
    "            n, digit = divmod(n, 10)\n",
    "            total_sum += digit ** 2\n",
    "        return total_sum\n",
    "        \n",
    "    ht = {}\n",
    "\n",
    "    while n not in ht:\n",
    "        ht[n] = 1\n",
    "        n = get_next(n)\n",
    "    return 1 in ht"
   ]
  },
  {
   "cell_type": "code",
   "execution_count": 70,
   "id": "heavy-disposal",
   "metadata": {},
   "outputs": [
    {
     "data": {
      "text/plain": [
       "True"
      ]
     },
     "execution_count": 70,
     "metadata": {},
     "output_type": "execute_result"
    }
   ],
   "source": [
    "n = 19\n",
    "isHappy(n)"
   ]
  },
  {
   "cell_type": "markdown",
   "id": "forced-locator",
   "metadata": {},
   "source": [
    "## 205. Isomorphic Strings\n",
    "\n",
    "Given two strings s and t, determine if they are isomorphic.\n",
    "\n",
    "Two strings s and t are isomorphic if the characters in s can be replaced to get t.\n",
    "\n",
    "All occurrences of a character must be replaced with another character while preserving the order of characters. No two characters may map to the same character, but a character may map to itself."
   ]
  },
  {
   "cell_type": "code",
   "execution_count": 84,
   "id": "blank-greek",
   "metadata": {},
   "outputs": [],
   "source": [
    "def isIsomorphic(s, t):\n",
    "    def helper(s,t):\n",
    "        if len(s) != len(t):\n",
    "            return False\n",
    "\n",
    "        ht = {}\n",
    "        for i in range(len(s)):\n",
    "            if s[i] in ht:\n",
    "                if ht[s[i]] != t[i]:\n",
    "                    return False\n",
    "            else:\n",
    "                ht[s[i]] = t[i]\n",
    "        return True\n",
    "    \n",
    "    return helper(s, t) and helper(t, s)"
   ]
  },
  {
   "cell_type": "code",
   "execution_count": 86,
   "id": "deluxe-horse",
   "metadata": {},
   "outputs": [
    {
     "data": {
      "text/plain": [
       "True"
      ]
     },
     "execution_count": 86,
     "metadata": {},
     "output_type": "execute_result"
    }
   ],
   "source": [
    "s = \"abdc\"\n",
    "t = \"abcd\"\n",
    "isIsomorphic(s, t)"
   ]
  },
  {
   "cell_type": "code",
   "execution_count": 88,
   "id": "extended-china",
   "metadata": {},
   "outputs": [],
   "source": [
    "def isIsomorphic(s, t):\n",
    "    return len(set(zip(s,t))) == len(set(s)) == len(set(t))"
   ]
  },
  {
   "cell_type": "code",
   "execution_count": 89,
   "id": "sonic-security",
   "metadata": {},
   "outputs": [
    {
     "data": {
      "text/plain": [
       "{('a', 'a'), ('b', 'b'), ('c', 'd'), ('d', 'c')}"
      ]
     },
     "execution_count": 89,
     "metadata": {},
     "output_type": "execute_result"
    }
   ],
   "source": [
    "s = \"abdc\"\n",
    "t = \"abcddfg\"\n",
    "set(zip(s,t))"
   ]
  },
  {
   "cell_type": "markdown",
   "id": "surprised-civilization",
   "metadata": {},
   "source": [
    "## 217. Contains Duplicate\n",
    "\n",
    "#### Given an integer array nums, return true if any value appears at least twice in the array, and return false if every element is distinct."
   ]
  },
  {
   "cell_type": "code",
   "execution_count": 94,
   "id": "remarkable-monitor",
   "metadata": {},
   "outputs": [],
   "source": [
    "def containsDuplicate(nums):\n",
    "    ht = {}\n",
    "    for n in nums:\n",
    "        if n in ht:\n",
    "            return True\n",
    "        else:\n",
    "            ht[n] = 1\n",
    "    return False"
   ]
  },
  {
   "cell_type": "code",
   "execution_count": 95,
   "id": "respected-albert",
   "metadata": {},
   "outputs": [],
   "source": [
    "def containsDuplicate(nums):\n",
    "    return len(set(nums)) != len(nums)"
   ]
  },
  {
   "cell_type": "markdown",
   "id": "burning-engineer",
   "metadata": {},
   "source": [
    "## 219. Contains Duplicate II\n",
    "\n",
    "#### Given an integer array nums and an integer k, return true if there are two distinct indices i and j in the array such that nums[i] == nums[j] and abs(i - j) <= k."
   ]
  },
  {
   "cell_type": "code",
   "execution_count": 106,
   "id": "cosmetic-arnold",
   "metadata": {},
   "outputs": [],
   "source": [
    "# sliding window, keep at most k in ht\n",
    "def containsNearbyDuplicate(nums, k):\n",
    "    ht = {}\n",
    "    \n",
    "    for i in range(len(nums)):\n",
    "        if len(ht) > k:\n",
    "            del ht[nums[i - k - 1]]\n",
    "        if nums[i] in ht:\n",
    "            return True\n",
    "        else:\n",
    "            ht[nums[i]] = i\n",
    "    return False"
   ]
  },
  {
   "cell_type": "code",
   "execution_count": 107,
   "id": "tired-ethiopia",
   "metadata": {},
   "outputs": [
    {
     "data": {
      "text/plain": [
       "False"
      ]
     },
     "execution_count": 107,
     "metadata": {},
     "output_type": "execute_result"
    }
   ],
   "source": [
    "nums = [1,2,3,1,2,3]\n",
    "k = 2\n",
    "containsNearbyDuplicate(nums, k)"
   ]
  },
  {
   "cell_type": "code",
   "execution_count": 108,
   "id": "vocal-craft",
   "metadata": {},
   "outputs": [],
   "source": [
    "def containsNearbyDuplicate(nums, k):\n",
    "    ht = {}\n",
    "    for i, v in enumerate(nums):\n",
    "        if v in ht and i-ht[v] <= k:\n",
    "            return True\n",
    "        ht[v] = i\n",
    "    return False"
   ]
  },
  {
   "cell_type": "code",
   "execution_count": 109,
   "id": "fundamental-pierce",
   "metadata": {},
   "outputs": [
    {
     "data": {
      "text/plain": [
       "False"
      ]
     },
     "execution_count": 109,
     "metadata": {},
     "output_type": "execute_result"
    }
   ],
   "source": [
    "nums = [1,2,3,1,2,3]\n",
    "k = 2\n",
    "containsNearbyDuplicate(nums, k)"
   ]
  },
  {
   "cell_type": "markdown",
   "id": "compatible-bolivia",
   "metadata": {},
   "source": [
    "## 242. Valid Anagram\n",
    "\n",
    "#### Given two strings s and t, return true if t is an anagram of s, and false otherwise."
   ]
  },
  {
   "cell_type": "code",
   "execution_count": 111,
   "id": "electronic-shadow",
   "metadata": {},
   "outputs": [],
   "source": [
    "from collections import Counter\n",
    "\n",
    "def isAnagram(s, t):\n",
    "    return Counter(list(s)) == Counter(list(t))"
   ]
  },
  {
   "cell_type": "code",
   "execution_count": 119,
   "id": "assisted-conducting",
   "metadata": {},
   "outputs": [],
   "source": [
    "def isAnagram(s, t):\n",
    "    ht = {}\n",
    "    for a in s:\n",
    "        if a in ht:\n",
    "            ht[a] += 1\n",
    "        else:\n",
    "            ht[a] = 1\n",
    "    for r in t:\n",
    "        if r not in ht:\n",
    "            return False\n",
    "        else:\n",
    "            ht[r] -= 1\n",
    "            if ht[r] < 0:\n",
    "                return False\n",
    "    return True"
   ]
  },
  {
   "cell_type": "code",
   "execution_count": 116,
   "id": "equivalent-microphone",
   "metadata": {},
   "outputs": [],
   "source": [
    "ht = {1:0, 2:1}"
   ]
  },
  {
   "cell_type": "code",
   "execution_count": 117,
   "id": "yellow-boston",
   "metadata": {},
   "outputs": [
    {
     "data": {
      "text/plain": [
       "False"
      ]
     },
     "execution_count": 117,
     "metadata": {},
     "output_type": "execute_result"
    }
   ],
   "source": [
    "all([i==0 for i in ht.values()])"
   ]
  },
  {
   "cell_type": "markdown",
   "id": "removed-ethnic",
   "metadata": {},
   "source": [
    "## 244. Shortest Word Distance II\n",
    "\n",
    "Design a data structure that will be initialized with a string array, and then it should answer queries of the shortest distance between two different strings from the array.\n",
    "\n",
    "Implement the WordDistance class:\n",
    "\n",
    "WordDistance(String[] wordsDict) initializes the object with the strings array wordsDict.\n",
    "int shortest(String word1, String word2) returns the shortest distance between word1 and word2 in the array wordsDict."
   ]
  },
  {
   "cell_type": "code",
   "execution_count": 120,
   "id": "everyday-letter",
   "metadata": {},
   "outputs": [],
   "source": [
    "class WordDistance:\n",
    "    def __init__(self, wordsDict):\n",
    "        self.ht = {}\n",
    "        for i, w in enumerate(wordsDict):\n",
    "            if w in self.ht:\n",
    "                self.ht[w].append(i)\n",
    "            else:\n",
    "                self.ht[w] = [i]\n",
    "\n",
    "    def shortest(self, word1, word2):\n",
    "        l1 = self.ht[word1]\n",
    "        l2 = self.ht[word2]\n",
    "        return min([abs(i-j) for i in l1 for j in l2])     "
   ]
  },
  {
   "cell_type": "code",
   "execution_count": 122,
   "id": "raised-embassy",
   "metadata": {},
   "outputs": [],
   "source": [
    "class WordDistance:\n",
    "    def __init__(self, wordsDict):\n",
    "        self.ht = {}\n",
    "        for i, w in enumerate(wordsDict):\n",
    "            if w in self.ht:\n",
    "                self.ht[w].append(i)\n",
    "            else:\n",
    "                self.ht[w] = [i]\n",
    "\n",
    "    def shortest(self, word1, word2):\n",
    "        l1 = self.ht[word1]\n",
    "        l2 = self.ht[word2]\n",
    "        \n",
    "        a, b = 0, 0\n",
    "        min_diff = float('inf')\n",
    "        while a < len(l1) and b < len(l2):\n",
    "            min_diff = min(min_diff, abs(l1[a] - l2[b]))\n",
    "            if l1[a] < l2[b]:\n",
    "                a += 1\n",
    "            elif l1[a] > l2[b]:\n",
    "                b += 1\n",
    "            else:\n",
    "                return 0\n",
    "        return min_diff"
   ]
  },
  {
   "cell_type": "code",
   "execution_count": null,
   "id": "fitted-suffering",
   "metadata": {},
   "outputs": [],
   "source": []
  }
 ],
 "metadata": {
  "kernelspec": {
   "display_name": "Python 3",
   "language": "python",
   "name": "python3"
  },
  "language_info": {
   "codemirror_mode": {
    "name": "ipython",
    "version": 3
   },
   "file_extension": ".py",
   "mimetype": "text/x-python",
   "name": "python",
   "nbconvert_exporter": "python",
   "pygments_lexer": "ipython3",
   "version": "3.7.6"
  }
 },
 "nbformat": 4,
 "nbformat_minor": 5
}
