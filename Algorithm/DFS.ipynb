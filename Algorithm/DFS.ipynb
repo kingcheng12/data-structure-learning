{
 "cells": [
  {
   "cell_type": "markdown",
   "id": "numerical-pension",
   "metadata": {},
   "source": [
    "## 98. Validate Binary Search Tree\n",
    "\n",
    "Given the root of a binary tree, determine if it is a valid binary search tree (BST).\n",
    "\n",
    "A valid BST is defined as follows:\n",
    "\n",
    "The left subtree of a node contains only nodes with keys less than the node's key.\n",
    "The right subtree of a node contains only nodes with keys greater than the node's key.\n",
    "Both the left and right subtrees must also be binary search trees."
   ]
  },
  {
   "cell_type": "code",
   "execution_count": 1,
   "id": "compatible-neighborhood",
   "metadata": {},
   "outputs": [],
   "source": [
    "class TreeNode:\n",
    "    def __init__(self, val=0, left=None, right=None):\n",
    "        self.val = val\n",
    "        self.left = left\n",
    "        self.right = right"
   ]
  },
  {
   "cell_type": "code",
   "execution_count": 2,
   "id": "varied-quantum",
   "metadata": {},
   "outputs": [],
   "source": [
    "def isValidBST(root):\n",
    "    def helper(node, low, high):\n",
    "        if not node:\n",
    "            return True\n",
    "        if (node.val >= high) or (node.val <= low):\n",
    "            return False\n",
    "        return helper(node.right, node.val, high) and helper(node.left, low, node.val)\n",
    "\n",
    "    return helper(root, -float('inf'), float('inf'))"
   ]
  },
  {
   "cell_type": "markdown",
   "id": "prime-korean",
   "metadata": {},
   "source": [
    "#### DFS postorder: bottom to top, left to right\n",
    "#### DFS preorder: top to bottom, left to right\n",
    "#### DFS inorder: left to node to right\n",
    "#### BFS: left to right, top to bottom"
   ]
  },
  {
   "cell_type": "code",
   "execution_count": 3,
   "id": "incorporated-effects",
   "metadata": {},
   "outputs": [],
   "source": [
    "def isValidBST(root):\n",
    "    stack = []\n",
    "    prev = -float('inf')\n",
    "    \n",
    "    while stack or root:\n",
    "        while root:\n",
    "            stack.append(root)\n",
    "            root = root.left\n",
    "        root = stack.pop()\n",
    "        \n",
    "        if root.val <= prev:\n",
    "            return False\n",
    "        prev = root.val\n",
    "        root = root.right\n",
    "    return True"
   ]
  },
  {
   "cell_type": "markdown",
   "id": "romance-eleven",
   "metadata": {},
   "source": [
    "## 100. Same Tree\n",
    "\n",
    "Given the roots of two binary trees p and q, write a function to check if they are the same or not.\n",
    "\n",
    "Two binary trees are considered the same if they are structurally identical, and the nodes have the same value."
   ]
  },
  {
   "cell_type": "code",
   "execution_count": 4,
   "id": "fatal-ireland",
   "metadata": {},
   "outputs": [],
   "source": [
    "class TreeNode:\n",
    "    def __init__(self, val=0, left=None, right=None):\n",
    "        self.val = val\n",
    "        self.left = left\n",
    "        self.right = right"
   ]
  },
  {
   "cell_type": "code",
   "execution_count": 5,
   "id": "rapid-brake",
   "metadata": {},
   "outputs": [],
   "source": [
    "def isSameTree(p, q):\n",
    "    if not p and not q:\n",
    "        return True\n",
    "    if not p or not q:\n",
    "        return False\n",
    "    if p.val != q.val:\n",
    "        return False\n",
    "    return isSameTree(p.left, q.left) and isSameTree(p.right, q.right)"
   ]
  },
  {
   "cell_type": "markdown",
   "id": "mounted-carbon",
   "metadata": {},
   "source": [
    "## 101. Symmetric Tree\n",
    "Given the root of a binary tree, check whether it is a mirror of itself (i.e., symmetric around its center)."
   ]
  },
  {
   "cell_type": "code",
   "execution_count": 7,
   "id": "empirical-purpose",
   "metadata": {},
   "outputs": [],
   "source": [
    "def isSymmetric(root):\n",
    "    def mirror(a, b):\n",
    "        if not a and not b:\n",
    "            return True\n",
    "        if not a or not b:\n",
    "            return False\n",
    "        if a.val != b.val:\n",
    "            return False\n",
    "        return mirror(a.left, b.right) and mirror(a.right, b.left)\n",
    "    return mirror(root, root)"
   ]
  },
  {
   "cell_type": "markdown",
   "id": "hispanic-parameter",
   "metadata": {},
   "source": [
    "## 104. Maximum Depth of Binary Tree\n",
    "\n",
    "Given the root of a binary tree, return its maximum depth.\n",
    "\n",
    "A binary tree's maximum depth is the number of nodes along the longest path from the root node down to the farthest leaf node."
   ]
  },
  {
   "cell_type": "code",
   "execution_count": 8,
   "id": "vocational-smooth",
   "metadata": {},
   "outputs": [],
   "source": [
    "def maxDepth(root):\n",
    "    depth = 0\n",
    "    level = [root] if root else []\n",
    "    while level:\n",
    "        depth += 1\n",
    "        queue = []\n",
    "        for i in level:\n",
    "            if i.left:\n",
    "                queue.append(i.left)\n",
    "            if i.right:\n",
    "                queue.append(i.right)\n",
    "        level = queue\n",
    "    return depth"
   ]
  },
  {
   "cell_type": "code",
   "execution_count": null,
   "id": "perfect-competition",
   "metadata": {},
   "outputs": [],
   "source": [
    "def maxDepth(root):\n",
    "    if not root:\n",
    "        return 0\n",
    "    else:\n",
    "        l = maxDepth(root.left)\n",
    "        r = maxDepth(root.right)\n",
    "        return max(l, r) + 1"
   ]
  },
  {
   "cell_type": "markdown",
   "id": "wanted-prerequisite",
   "metadata": {},
   "source": [
    "## 105. Construct Binary Tree from Preorder and Inorder Traversal\n",
    "\n",
    "Given two integer arrays preorder and inorder where preorder is the preorder traversal of a binary tree and inorder is the inorder traversal of the same tree, construct and return the binary tree."
   ]
  },
  {
   "cell_type": "code",
   "execution_count": null,
   "id": "drawn-quest",
   "metadata": {},
   "outputs": [],
   "source": [
    "def buildTree(preorder, inorder):\n",
    "    "
   ]
  }
 ],
 "metadata": {
  "kernelspec": {
   "display_name": "Python 3",
   "language": "python",
   "name": "python3"
  },
  "language_info": {
   "codemirror_mode": {
    "name": "ipython",
    "version": 3
   },
   "file_extension": ".py",
   "mimetype": "text/x-python",
   "name": "python",
   "nbconvert_exporter": "python",
   "pygments_lexer": "ipython3",
   "version": "3.7.6"
  }
 },
 "nbformat": 4,
 "nbformat_minor": 5
}
