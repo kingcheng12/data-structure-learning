{
 "cells": [
  {
   "cell_type": "markdown",
   "id": "green-marsh",
   "metadata": {},
   "source": [
    "## 1. Phone book"
   ]
  },
  {
   "cell_type": "code",
   "execution_count": 149,
   "id": "organizational-russell",
   "metadata": {},
   "outputs": [],
   "source": [
    "class phone_book():\n",
    "    \n",
    "    def __init__(self, m):\n",
    "        # m is the number of hashed groups\n",
    "        self.chains = [[i] for i in range(m)]\n",
    "        self.m = m\n",
    "    \n",
    "    \n",
    "    def add(self, name, number):\n",
    "        h = number%self.m\n",
    "        # check existence\n",
    "        if len(self.chains[h]) == 1:\n",
    "            self.chains[h].append([name, number])\n",
    "        else:\n",
    "            for j in range(1, len(self.chains[h])):\n",
    "                if self.chains[h][j][1] == number:\n",
    "                    self.chains[h][j][0] = name\n",
    "            \n",
    "    def delete(self, number):\n",
    "        h = number%self.m\n",
    "        for j in range(1, len(self.chains[h])):\n",
    "            if self.chains[h][j][1] == number:\n",
    "                del self.chains[h][j]\n",
    "                break\n",
    "                \n",
    "    def find(self, number):\n",
    "        h = number%self.m\n",
    "        for j in range(1, len(self.chains[h])):\n",
    "            if self.chains[h][j][1] == number:\n",
    "                print(self.chains[h][j][0])\n",
    "                return\n",
    "        print('not found')\n",
    "    \n",
    "    def __str__(self):\n",
    "        s = ''\n",
    "        for c in self.chains:\n",
    "            if len(c) > 1:\n",
    "                for na, nu in c[1:]:\n",
    "                    s += str(na)+':'+str(nu)+'\\n'\n",
    "        return s\n",
    "        \n",
    "    "
   ]
  },
  {
   "cell_type": "code",
   "execution_count": 150,
   "id": "official-recipient",
   "metadata": {},
   "outputs": [],
   "source": [
    "p = phone_book(5)"
   ]
  },
  {
   "cell_type": "code",
   "execution_count": 151,
   "id": "outstanding-model",
   "metadata": {},
   "outputs": [
    {
     "name": "stdout",
     "output_type": "stream",
     "text": [
      "police:911\n",
      "mom:76213\n",
      "bob:17239\n",
      "\n"
     ]
    }
   ],
   "source": [
    "p.add('police', 911)\n",
    "p.add('mom', 76213)\n",
    "p.add('bob', 17239)\n",
    "print(p)"
   ]
  },
  {
   "cell_type": "code",
   "execution_count": 153,
   "id": "bottom-saskatchewan",
   "metadata": {},
   "outputs": [
    {
     "name": "stdout",
     "output_type": "stream",
     "text": [
      "mom\n",
      "not found\n",
      "police\n"
     ]
    }
   ],
   "source": [
    "p.find(76213)\n",
    "p.find(910)\n",
    "p.find(911)"
   ]
  },
  {
   "cell_type": "code",
   "execution_count": 154,
   "id": "bound-trace",
   "metadata": {},
   "outputs": [],
   "source": [
    "p.delete(910)\n",
    "p.delete(911)"
   ]
  },
  {
   "cell_type": "code",
   "execution_count": 156,
   "id": "amazing-weekly",
   "metadata": {},
   "outputs": [
    {
     "name": "stdout",
     "output_type": "stream",
     "text": [
      "not found\n",
      "mom\n"
     ]
    }
   ],
   "source": [
    "p.find(911)\n",
    "p.find(76213)"
   ]
  },
  {
   "cell_type": "code",
   "execution_count": 157,
   "id": "checked-context",
   "metadata": {},
   "outputs": [
    {
     "name": "stdout",
     "output_type": "stream",
     "text": [
      "daddy\n"
     ]
    }
   ],
   "source": [
    "p.add('daddy', 76213)\n",
    "p.find(76213)"
   ]
  },
  {
   "cell_type": "code",
   "execution_count": 158,
   "id": "continent-sheet",
   "metadata": {},
   "outputs": [
    {
     "name": "stdout",
     "output_type": "stream",
     "text": [
      "daddy:76213\n",
      "bob:17239\n",
      "\n"
     ]
    }
   ],
   "source": [
    "print(p)"
   ]
  },
  {
   "cell_type": "markdown",
   "id": "billion-asian",
   "metadata": {},
   "source": [
    "## 2. Hashing with chains"
   ]
  },
  {
   "cell_type": "code",
   "execution_count": 327,
   "id": "dominican-negotiation",
   "metadata": {},
   "outputs": [],
   "source": [
    "class hash_table():\n",
    "    p = 1000000007\n",
    "    x = 263\n",
    "    m = 10\n",
    "    \n",
    "    def __init__(self, m):\n",
    "        self.m = m\n",
    "        self.chains = [[] for _ in range(m)]\n",
    "        \n",
    "    def hash_score(self, string):\n",
    "        # polynomial hash function\n",
    "        total = 0\n",
    "        for i, s in enumerate(string):\n",
    "            asc = ord(s)\n",
    "            total += asc*self.x**i\n",
    "        return total%self.p%self.m\n",
    "        \n",
    "    def add(self, string):\n",
    "        h = self.hash_score(string)\n",
    "        if not self.chains[h]:\n",
    "            self.chains[h].append(string)\n",
    "        else:\n",
    "            for i, s in enumerate(self.chains[h]):\n",
    "                if s == string:\n",
    "                    break\n",
    "                elif i == len(self.chains[h])-1:\n",
    "                    self.chains[h].append(string)\n",
    "        \n",
    "    def delete(self, string):\n",
    "        h = self.hash_score(string)\n",
    "        for i, s in enumerate(self.chains[h]):\n",
    "            if s == string:\n",
    "                del self.chains[h][i]\n",
    "                \n",
    "    def find(self, string):\n",
    "        h = self.hash_score(string)\n",
    "        if not self.chains[h]:\n",
    "            print('no')\n",
    "        else:\n",
    "            for i, s in enumerate(self.chains[h]):\n",
    "                if s == string:\n",
    "                    print('yes')\n",
    "                    break\n",
    "                elif i == len(self.chains[h])-1:\n",
    "                    print('no')\n",
    "                \n",
    "    def check(self, i):\n",
    "        for s in self.chains[i]:\n",
    "            print(s+' ')\n",
    "    \n",
    "    def __str__(self):\n",
    "        s = ''\n",
    "        for c in self.chains:\n",
    "            s += '\\n'.join(c)\n",
    "        return s"
   ]
  },
  {
   "cell_type": "code",
   "execution_count": 328,
   "id": "crazy-payday",
   "metadata": {},
   "outputs": [],
   "source": [
    "m =5\n",
    "ht = hash_table(m)"
   ]
  },
  {
   "cell_type": "code",
   "execution_count": 329,
   "id": "concrete-failing",
   "metadata": {},
   "outputs": [],
   "source": [
    "ht.add('world')\n",
    "ht.add('Hell0')"
   ]
  },
  {
   "cell_type": "code",
   "execution_count": 331,
   "id": "detected-plastic",
   "metadata": {},
   "outputs": [
    {
     "name": "stdout",
     "output_type": "stream",
     "text": [
      "world \n",
      "Hell0 \n"
     ]
    }
   ],
   "source": [
    "ht.check(4)"
   ]
  },
  {
   "cell_type": "code",
   "execution_count": 332,
   "id": "outstanding-daughter",
   "metadata": {},
   "outputs": [
    {
     "name": "stdout",
     "output_type": "stream",
     "text": [
      "no\n",
      "yes\n"
     ]
    }
   ],
   "source": [
    "ht.find('World')\n",
    "ht.find('world')"
   ]
  },
  {
   "cell_type": "code",
   "execution_count": 333,
   "id": "going-walker",
   "metadata": {},
   "outputs": [],
   "source": [
    "ht.delete('Hell0')"
   ]
  },
  {
   "cell_type": "code",
   "execution_count": 334,
   "id": "vocal-feeling",
   "metadata": {},
   "outputs": [
    {
     "name": "stdout",
     "output_type": "stream",
     "text": [
      "world \n"
     ]
    }
   ],
   "source": [
    "ht.check(4)"
   ]
  },
  {
   "cell_type": "code",
   "execution_count": 335,
   "id": "conventional-adapter",
   "metadata": {},
   "outputs": [],
   "source": [
    "ht.add('luck')\n",
    "ht.add('Good')"
   ]
  },
  {
   "cell_type": "code",
   "execution_count": 336,
   "id": "infrared-liverpool",
   "metadata": {},
   "outputs": [],
   "source": [
    "ht.delete('good')"
   ]
  },
  {
   "cell_type": "code",
   "execution_count": 337,
   "id": "dated-technician",
   "metadata": {},
   "outputs": [
    {
     "name": "stdout",
     "output_type": "stream",
     "text": [
      "luck \n"
     ]
    }
   ],
   "source": [
    "ht.check(2)"
   ]
  },
  {
   "cell_type": "markdown",
   "id": "alleged-deadline",
   "metadata": {},
   "source": [
    "## 3. Find pattern in text\n",
    "\n",
    "#### Rabin-Karp's algorithm"
   ]
  },
  {
   "cell_type": "code",
   "execution_count": 467,
   "id": "mechanical-affairs",
   "metadata": {},
   "outputs": [],
   "source": [
    "def find_pattern(T, P):\n",
    "    '''find pattern P in text T'''\n",
    "    \n",
    "    def poly_hash(string):\n",
    "        p, x = 1000000007, 2\n",
    "        total = 0\n",
    "        for i in range(len(string)-1, -1, -1):\n",
    "            total = (total*x + ord(string[i]))%p\n",
    "        return total\n",
    "    \n",
    "    def precomputeHash(T, P_len):\n",
    "        T_len = len(T)\n",
    "        p, x = 1000000007, 2\n",
    "        H = [0] * (T_len-P_len+1)\n",
    "        S = T[T_len-P_len:T_len]\n",
    "        H[T_len-P_len] = poly_hash(S)\n",
    "        \n",
    "        y = x**P_len%p\n",
    "        for i in range(T_len-P_len-1, -1, -1):\n",
    "            H[i] = (x*H[i+1]+ord(T[i])-y*ord(T[i+P_len])) % p\n",
    "        return H\n",
    "    \n",
    "    positions = []\n",
    "    pHash = poly_hash(P)\n",
    "    H = precomputeHash(T, len(P))\n",
    "    \n",
    "    for i in range(len(H)):\n",
    "        if pHash != H[i]:\n",
    "            continue\n",
    "        if T[i:i+len(P)] == P:\n",
    "            positions.append(i)\n",
    "    return positions"
   ]
  },
  {
   "cell_type": "code",
   "execution_count": 468,
   "id": "derived-observer",
   "metadata": {},
   "outputs": [
    {
     "data": {
      "text/plain": [
       "[0, 4]"
      ]
     },
     "execution_count": 468,
     "metadata": {},
     "output_type": "execute_result"
    }
   ],
   "source": [
    "T = 'abacaba'\n",
    "P = 'aba'\n",
    "find_pattern(T, P)"
   ]
  },
  {
   "cell_type": "code",
   "execution_count": null,
   "id": "stone-motor",
   "metadata": {},
   "outputs": [],
   "source": []
  }
 ],
 "metadata": {
  "kernelspec": {
   "display_name": "Python 3",
   "language": "python",
   "name": "python3"
  },
  "language_info": {
   "codemirror_mode": {
    "name": "ipython",
    "version": 3
   },
   "file_extension": ".py",
   "mimetype": "text/x-python",
   "name": "python",
   "nbconvert_exporter": "python",
   "pygments_lexer": "ipython3",
   "version": "3.7.6"
  }
 },
 "nbformat": 4,
 "nbformat_minor": 5
}
