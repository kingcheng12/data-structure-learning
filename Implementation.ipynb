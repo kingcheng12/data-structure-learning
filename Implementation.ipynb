{
 "cells": [
  {
   "cell_type": "markdown",
   "id": "quick-pathology",
   "metadata": {},
   "source": [
    "## 1. Linked List"
   ]
  },
  {
   "cell_type": "code",
   "execution_count": 97,
   "id": "loving-gilbert",
   "metadata": {},
   "outputs": [],
   "source": [
    "class Node:\n",
    "    def __init__(self, val):\n",
    "        self.val = val\n",
    "        self.next = None\n",
    "    def __str__(self):\n",
    "        return str(self.val)\n",
    "    \n",
    "class LinkedList:\n",
    "    def __init__(self):\n",
    "        self.head = None\n",
    "    \n",
    "    def __str__(self):\n",
    "        s = ''\n",
    "        temp = self.head\n",
    "        while temp:\n",
    "            s += str(temp.val)\n",
    "            if temp.next:\n",
    "                s += ' -> '\n",
    "            temp = temp.next\n",
    "        return s\n",
    "    \n",
    "    def insert(self, n, where = 'front'):\n",
    "        if where == 'back':\n",
    "            temp = self.head\n",
    "            if not temp:\n",
    "                temp = Node(n)\n",
    "            else:\n",
    "                while temp.next:\n",
    "                    temp = temp.next\n",
    "                temp.next = Node(n)\n",
    "        if where == 'front':\n",
    "            no = Node(n)\n",
    "            no.next = self.head\n",
    "            self.head = no\n",
    "            \n",
    "    def insertafter(self, pre, n):\n",
    "        if not pre:\n",
    "            print('provide a previous node pointer')\n",
    "            return\n",
    "        \n",
    "        new = Node(n)\n",
    "        new.next = pre.next\n",
    "        pre.next = new\n",
    "        \n",
    "    def delete(self, val):\n",
    "        temp = self.head\n",
    "        if temp:\n",
    "            if temp.val == val:\n",
    "                self.head = temp.next\n",
    "                return\n",
    "            else:\n",
    "                while temp.next and temp.next.val != val:\n",
    "                    temp = temp.next\n",
    "\n",
    "                if not temp.next:\n",
    "                    return\n",
    "                else:\n",
    "                    temp.next = temp.next.next\n",
    "                    \n",
    "    def deleteAt(self, position):\n",
    "        temp = self.head\n",
    "        if temp:\n",
    "            if position == 0:\n",
    "                self.head = temp.next\n",
    "                return\n",
    "            else:\n",
    "                for i in range(position-1):\n",
    "                    if temp.next:\n",
    "                        temp = temp.next\n",
    "                    else:\n",
    "                        return\n",
    "                if not temp.next:\n",
    "                    return\n",
    "                else:\n",
    "                    temp.next = temp.next.next\n",
    "                \n",
    "        "
   ]
  },
  {
   "cell_type": "code",
   "execution_count": 98,
   "id": "radio-reset",
   "metadata": {},
   "outputs": [
    {
     "name": "stdout",
     "output_type": "stream",
     "text": [
      "0 -> 0 -> 1 -> 2\n"
     ]
    }
   ],
   "source": [
    "a = LinkedList()\n",
    "a.head = tail = Node(0)\n",
    "for i in range(3):\n",
    "    tail.next = Node(i)\n",
    "    tail = tail.next\n",
    "\n",
    "print(a)"
   ]
  },
  {
   "cell_type": "code",
   "execution_count": 99,
   "id": "russian-baseline",
   "metadata": {},
   "outputs": [
    {
     "name": "stdout",
     "output_type": "stream",
     "text": [
      "10 -> 0 -> 0 -> 1 -> 2\n"
     ]
    }
   ],
   "source": [
    "a.insert(10)\n",
    "print(a)"
   ]
  },
  {
   "cell_type": "code",
   "execution_count": 100,
   "id": "suffering-equilibrium",
   "metadata": {},
   "outputs": [
    {
     "name": "stdout",
     "output_type": "stream",
     "text": [
      "10 -> 100 -> 0 -> 0 -> 1 -> 2\n"
     ]
    }
   ],
   "source": [
    "a.insertafter(a.head, 100)\n",
    "print(a)"
   ]
  },
  {
   "cell_type": "code",
   "execution_count": 101,
   "id": "cellular-triple",
   "metadata": {},
   "outputs": [
    {
     "name": "stdout",
     "output_type": "stream",
     "text": [
      "100 -> 0 -> 0 -> 1 -> 2\n"
     ]
    }
   ],
   "source": [
    "a.delete(10)\n",
    "print(a)"
   ]
  },
  {
   "cell_type": "code",
   "execution_count": 102,
   "id": "drawn-dimension",
   "metadata": {},
   "outputs": [
    {
     "name": "stdout",
     "output_type": "stream",
     "text": [
      "100 -> 0 -> 0 -> 2\n"
     ]
    }
   ],
   "source": [
    "a.delete(1)\n",
    "print(a)"
   ]
  },
  {
   "cell_type": "code",
   "execution_count": 103,
   "id": "interstate-journalist",
   "metadata": {},
   "outputs": [
    {
     "name": "stdout",
     "output_type": "stream",
     "text": [
      "100 -> 0 -> 0\n"
     ]
    }
   ],
   "source": [
    "a.delete(2)\n",
    "print(a)"
   ]
  },
  {
   "cell_type": "code",
   "execution_count": 104,
   "id": "exclusive-mandate",
   "metadata": {},
   "outputs": [
    {
     "name": "stdout",
     "output_type": "stream",
     "text": [
      "7 -> 6 -> 5 -> 100 -> 0 -> 0\n"
     ]
    }
   ],
   "source": [
    "for i in range(5,8):\n",
    "    a.insert(i)\n",
    "    \n",
    "print(a)"
   ]
  },
  {
   "cell_type": "code",
   "execution_count": 105,
   "id": "natural-mobility",
   "metadata": {},
   "outputs": [],
   "source": [
    "a.deleteAt(0)"
   ]
  },
  {
   "cell_type": "code",
   "execution_count": 106,
   "id": "electoral-platform",
   "metadata": {},
   "outputs": [
    {
     "name": "stdout",
     "output_type": "stream",
     "text": [
      "6 -> 5 -> 100 -> 0 -> 0\n"
     ]
    }
   ],
   "source": [
    "print(a)"
   ]
  },
  {
   "cell_type": "code",
   "execution_count": 107,
   "id": "eleven-shakespeare",
   "metadata": {},
   "outputs": [
    {
     "name": "stdout",
     "output_type": "stream",
     "text": [
      "6 -> 100 -> 0 -> 0\n"
     ]
    }
   ],
   "source": [
    "a.deleteAt(1)\n",
    "print(a)"
   ]
  },
  {
   "cell_type": "code",
   "execution_count": 108,
   "id": "european-translator",
   "metadata": {},
   "outputs": [
    {
     "name": "stdout",
     "output_type": "stream",
     "text": [
      "6 -> 100 -> 0\n"
     ]
    }
   ],
   "source": [
    "a.deleteAt(3)\n",
    "print(a)"
   ]
  },
  {
   "cell_type": "markdown",
   "id": "distant-spray",
   "metadata": {},
   "source": [
    "### i. Reverse Linked list"
   ]
  },
  {
   "cell_type": "code",
   "execution_count": 134,
   "id": "invalid-hypothetical",
   "metadata": {},
   "outputs": [],
   "source": [
    "# time O(n); space O(1)\n",
    "def ReverseLinkedList(l):\n",
    "    prev, curr, nex = None, l.head, None\n",
    "    \n",
    "    while curr:\n",
    "        # store nex node\n",
    "        nex = curr.next\n",
    "        # reverse\n",
    "        curr.next = prev\n",
    "        # update prev and curr\n",
    "        prev = curr\n",
    "        curr = nex\n",
    "    l.head = prev\n",
    "    return l"
   ]
  },
  {
   "cell_type": "code",
   "execution_count": 135,
   "id": "enormous-haiti",
   "metadata": {},
   "outputs": [
    {
     "name": "stdout",
     "output_type": "stream",
     "text": [
      "0 -> 1 -> 2 -> 3 -> 4\n"
     ]
    }
   ],
   "source": [
    "a = LinkedList()\n",
    "a.head = tail = Node(0)\n",
    "for i in range(1, 5):\n",
    "    tail.next = Node(i)\n",
    "    tail = tail.next\n",
    "\n",
    "print(a)"
   ]
  },
  {
   "cell_type": "code",
   "execution_count": 136,
   "id": "arranged-florida",
   "metadata": {},
   "outputs": [
    {
     "name": "stdout",
     "output_type": "stream",
     "text": [
      "4 -> 3 -> 2 -> 1 -> 0\n"
     ]
    }
   ],
   "source": [
    "l = ReverseLinkedList(a)\n",
    "print(l)"
   ]
  },
  {
   "cell_type": "markdown",
   "id": "human-generation",
   "metadata": {},
   "source": [
    "## ii. Reverse between left and right"
   ]
  },
  {
   "cell_type": "code",
   "execution_count": 149,
   "id": "posted-earth",
   "metadata": {},
   "outputs": [],
   "source": [
    "def reverseBetween(L, l, r):\n",
    "    head = L.head\n",
    "    cur, prev = head, None\n",
    "    while l > 1:\n",
    "        prev = cur\n",
    "        cur = cur.next\n",
    "        l, r = l-1, r-1\n",
    "    tail, con = cur, prev\n",
    "    \n",
    "    while r:\n",
    "        third = cur.next\n",
    "        cur.next = prev\n",
    "        prev = cur\n",
    "        cur = third\n",
    "        r -= 1\n",
    "    \n",
    "    if con:\n",
    "        con.next = prev\n",
    "    else:\n",
    "        head = prev\n",
    "    tail.next = cur\n",
    "    L.head = head\n",
    "    \n",
    "    return L"
   ]
  },
  {
   "cell_type": "code",
   "execution_count": 150,
   "id": "sapphire-architect",
   "metadata": {},
   "outputs": [
    {
     "name": "stdout",
     "output_type": "stream",
     "text": [
      "0 -> 1 -> 2 -> 3 -> 4\n"
     ]
    }
   ],
   "source": [
    "a = LinkedList()\n",
    "a.head = tail = Node(0)\n",
    "for i in range(1, 5):\n",
    "    tail.next = Node(i)\n",
    "    tail = tail.next\n",
    "\n",
    "print(a)"
   ]
  },
  {
   "cell_type": "code",
   "execution_count": 151,
   "id": "palestinian-painting",
   "metadata": {},
   "outputs": [
    {
     "name": "stdout",
     "output_type": "stream",
     "text": [
      "0 -> 3 -> 2 -> 1 -> 4\n"
     ]
    }
   ],
   "source": [
    "l = reverseBetween(a, 2, 4)\n",
    "print(l)"
   ]
  },
  {
   "cell_type": "code",
   "execution_count": 152,
   "id": "floating-barrel",
   "metadata": {},
   "outputs": [
    {
     "name": "stdout",
     "output_type": "stream",
     "text": [
      "1 -> 2 -> 3 -> 0 -> 4\n"
     ]
    }
   ],
   "source": [
    "l = reverseBetween(a, 1, 4)\n",
    "print(l)"
   ]
  },
  {
   "cell_type": "code",
   "execution_count": null,
   "id": "dedicated-listing",
   "metadata": {},
   "outputs": [],
   "source": []
  }
 ],
 "metadata": {
  "kernelspec": {
   "display_name": "Python 3",
   "language": "python",
   "name": "python3"
  },
  "language_info": {
   "codemirror_mode": {
    "name": "ipython",
    "version": 3
   },
   "file_extension": ".py",
   "mimetype": "text/x-python",
   "name": "python",
   "nbconvert_exporter": "python",
   "pygments_lexer": "ipython3",
   "version": "3.7.6"
  }
 },
 "nbformat": 4,
 "nbformat_minor": 5
}
